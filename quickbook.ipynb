{
  "cells": [
    {
      "cell_type": "markdown",
      "metadata": {
        "id": "view-in-github",
        "colab_type": "text"
      },
      "source": [
        "<a href=\"https://colab.research.google.com/github/ratulb/mojo_programming/blob/main/quickbook.ipynb\" target=\"_parent\"><img src=\"https://colab.research.google.com/assets/colab-badge.svg\" alt=\"Open In Colab\"/></a>"
      ]
    },
    {
      "cell_type": "markdown",
      "source": [
        "**Mojo quickbook**"
      ],
      "metadata": {
        "id": "Gh82E_KBDg3z"
      }
    },
    {
      "cell_type": "code",
      "execution_count": 1,
      "metadata": {
        "id": "buOgxm25ONit",
        "outputId": "7b9d37d8-af70-40f6-9502-6b2e943c7a08",
        "colab": {
          "base_uri": "https://localhost:8080/"
        }
      },
      "outputs": [
        {
          "output_type": "stream",
          "name": "stdout",
          "text": [
            "Installing the latest version of Magic...\n",
            "  % Total    % Received % Xferd  Average Speed   Time    Time     Time  Current\n",
            "                                 Dload  Upload   Total   Spent    Left  Speed\n",
            "  0     0    0     0    0     0      0      0 --:--:-- --:--:-- --:--:--     0\n",
            "100 49.9M  100 49.9M    0     0  17.1M      0  0:00:02  0:00:02 --:--:-- 49.1M\n",
            "Done. The 'magic' binary is in '/root/.modular/bin'\n",
            "\n",
            "Two more steps:\n",
            "1. To use 'magic', run this command so it's in your PATH:\n",
            "source /root/.bashrc\n",
            "2. To build with MAX and Mojo, go to http://modul.ar/get-started\n"
          ]
        }
      ],
      "source": [
        "!curl -ssL https://magic.modular.com/ | bash"
      ]
    },
    {
      "cell_type": "code",
      "execution_count": 2,
      "metadata": {
        "id": "FVZvyhRiONiw"
      },
      "outputs": [],
      "source": [
        "import os\n",
        "os.environ['PATH'] +=':/root/.modular/bin'"
      ]
    },
    {
      "cell_type": "code",
      "execution_count": 3,
      "metadata": {
        "id": "TqFD0EK0ONiw",
        "outputId": "9c321fda-8b28-4704-df9e-cbdb83b92b1e",
        "colab": {
          "base_uri": "https://localhost:8080/"
        }
      },
      "outputs": [
        {
          "output_type": "stream",
          "name": "stdout",
          "text": [
            "\u001b[32m✔ \u001b[0mCreated /content/codes/mojoproject.toml\n"
          ]
        }
      ],
      "source": [
        "!magic init codes --format mojoproject"
      ]
    },
    {
      "cell_type": "code",
      "execution_count": 4,
      "metadata": {
        "id": "k3Ddb6GcONiw",
        "outputId": "9df3f27d-bddd-4243-c634-f0f1eb3ff840",
        "colab": {
          "base_uri": "https://localhost:8080/"
        }
      },
      "outputs": [
        {
          "output_type": "stream",
          "name": "stdout",
          "text": [
            "/content/codes\n"
          ]
        }
      ],
      "source": [
        "%cd codes/"
      ]
    },
    {
      "cell_type": "code",
      "execution_count": 20,
      "metadata": {
        "id": "IaxB1auxONix",
        "colab": {
          "base_uri": "https://localhost:8080/"
        },
        "outputId": "7d2a72b0-0406-42de-fa5e-946ff981971d"
      },
      "outputs": [
        {
          "output_type": "stream",
          "name": "stdout",
          "text": [
            "Overwriting merge_intervals.mojo\n"
          ]
        }
      ],
      "source": [
        "%%writefile merge_intervals.mojo\n",
        "\n",
        "### Merge Itervals\n",
        "### Merge overlapping intervals\n",
        "\n",
        "\n",
        "@parameter\n",
        "fn compare_fn(interval1: (Int, Int), interval2: (Int, Int)) -> Bool:\n",
        "    return interval1[1] < interval2[1]\n",
        "\n",
        "fn merge_intervals(mut intervals: List[(Int, Int)]) -> List[(Int, Int)]:\n",
        "    if len(intervals) == 0:\n",
        "        return List[(Int, Int)]()\n",
        "\n",
        "    sort[compare_fn](intervals)\n",
        "\n",
        "    result = List[(Int, Int)]()\n",
        "    result.append(intervals[0])\n",
        "    for curr_interval in intervals[1:]:\n",
        "        start, end = curr_interval[]\n",
        "        last_interval = result[-1]\n",
        "        last_start, last_end = last_interval\n",
        "        if start <= last_end:\n",
        "            result[len(result) - 1] = (last_start, max(last_end, end))\n",
        "        else:\n",
        "            result.append(curr_interval[])\n",
        "\n",
        "    return result\n",
        "\n",
        "\n",
        "from testing import assert_true\n",
        "\n",
        "\n",
        "fn main() raises:\n",
        "    intervals = List[(Int, Int)]((1, 3), (2, 6), (8, 10), (15, 18))\n",
        "    expected = List[(Int, Int)]((1, 6), (8, 10), (15, 18))\n",
        "    result = merge_intervals(intervals)\n",
        "    i = 0\n",
        "    for each in result:\n",
        "        assert_true(\n",
        "            each[][0] == expected[i][0] and each[][1] == expected[i][1],\n",
        "            \"Assertion failed\",\n",
        "        )\n",
        "        i += 1\n",
        "\n",
        "    intervals = List[(Int, Int)]((1, 4), (4, 5))\n",
        "    expected = List[(Int, Int)]((1, 5))\n",
        "    result = merge_intervals(intervals)\n",
        "    i = 0\n",
        "    for each in result:\n",
        "        assert_true(\n",
        "            each[][0] == expected[i][0] and each[][1] == expected[i][1],\n",
        "            \"Assertion failed\",\n",
        "        )\n",
        "        i += 1\n"
      ]
    },
    {
      "cell_type": "code",
      "execution_count": 21,
      "metadata": {
        "colab": {
          "base_uri": "https://localhost:8080/"
        },
        "id": "h2k9wkDaONiz",
        "outputId": "27b4c821-1f3c-4fcd-9833-d27298fcd32c"
      },
      "outputs": [
        {
          "output_type": "stream",
          "name": "stdout",
          "text": [
            "\u001b[32m⠁\u001b[0m                                                                               \r\u001b[2K\u001b[32m⠁\u001b[0m activating environment                                                        \r\u001b[2K\u001b[32m⠁\u001b[0m activating environment                                                        \r\u001b[2K"
          ]
        }
      ],
      "source": [
        "!magic run mojo merge_intervals.mojo"
      ]
    },
    {
      "cell_type": "code",
      "execution_count": 19,
      "metadata": {
        "colab": {
          "base_uri": "https://localhost:8080/"
        },
        "id": "bSglX7bNONi0",
        "outputId": "89eb14c8-d1fc-48b7-c063-acd8934ef42d"
      },
      "outputs": [
        {
          "output_type": "stream",
          "name": "stdout",
          "text": [
            "\u001b[32m⠁\u001b[0m                                                                               \r\u001b[2K\u001b[32m⠁\u001b[0m activating environment                                                        \r\u001b[2K\u001b[32m⠁\u001b[0m activating environment                                                        \r\u001b[2K\u001b[1mreformatted merge_intervals.mojo\u001b[0m\n",
            "\n",
            "\u001b[1mAll done! ✨ 🍰 ✨\u001b[0m\n",
            "\u001b[34m\u001b[1m1 file \u001b[0m\u001b[1mreformatted\u001b[0m.\n"
          ]
        }
      ],
      "source": [
        "!magic run mojo format merge_intervals.mojo"
      ]
    },
    {
      "cell_type": "code",
      "source": [
        "!cat merge_intervals.mojo"
      ],
      "metadata": {
        "colab": {
          "base_uri": "https://localhost:8080/"
        },
        "id": "z2OxrAfbJYKc",
        "outputId": "d46beb8d-493d-4c7d-da94-07b9ab92e99f"
      },
      "execution_count": 8,
      "outputs": [
        {
          "output_type": "stream",
          "name": "stdout",
          "text": [
            "\n",
            "### Merge Itervals\n",
            "### Merge overlapping intervals\n",
            "\n",
            "\n",
            "@parameter\n",
            "fn compare_fn[end_time: Bool=False](interval1: (Int, Int), interval2: (Int, Int)) -> Bool:\n",
            "    if end_time:\n",
            "        return interval1[1] < interval2[1]\n",
            "    else\n",
            "        return interval1[0]  interval2[0]\n",
            "\n",
            "\n",
            "fn merge_intervals(mut intervals: List[(Int, Int)]) -> List[(Int, Int)]:\n",
            "    if len(intervals) == 0:\n",
            "        return List[(Int, Int)]()\n",
            "\n",
            "    sort[compare_fn](intervals)\n",
            "\n",
            "    result = List[(Int, Int)]()\n",
            "    result.append(intervals[0])\n",
            "    for curr_interval in intervals[1:]:\n",
            "        start, end = curr_interval[]\n",
            "        last_interval = result[-1]\n",
            "        last_start, last_end = last_interval\n",
            "        if start <= last_end:\n",
            "            result[len(result) - 1] = (last_start, max(last_end, end))\n",
            "        else:\n",
            "            result.append(curr_interval[])\n",
            "\n",
            "    return result\n",
            "\n",
            "\n",
            "from testing import assert_true\n",
            "\n",
            "\n",
            "fn main() raises:\n",
            "    intervals = List[(Int, Int)]((1, 3), (2, 6), (8, 10), (15, 18))\n",
            "    expected = List[(Int, Int)]((1, 6), (8, 10), (15, 18))\n",
            "    result = merge_intervals(intervals)\n",
            "    i = 0\n",
            "    for each in result:\n",
            "        assert_true(\n",
            "            each[][0] == expected[i][0] and each[][1] == expected[i][1],\n",
            "            \"Assertion failed\",\n",
            "        )\n",
            "        i += 1\n",
            "\n",
            "    intervals = List[(Int, Int)]((1, 4), (4, 5))\n",
            "    expected = List[(Int, Int)]((1, 5))\n",
            "    result = merge_intervals(intervals)\n",
            "    i = 0\n",
            "    for each in result:\n",
            "        assert_true(\n",
            "            each[][0] == expected[i][0] and each[][1] == expected[i][1],\n",
            "            \"Assertion failed\",\n",
            "        )\n",
            "        i += 1\n"
          ]
        }
      ]
    },
    {
      "cell_type": "code",
      "source": [
        "%%writefile min_meeting_rooms.mojo\n",
        "\n",
        "### Metting rooms\n",
        "### Minimum Conference Rooms for Meeting Intervals\n",
        "\n",
        "from algorithm import map\n",
        "\n",
        "\n",
        "@parameter\n",
        "fn compare_fn[\n",
        "    end_time: Bool = False\n",
        "](interval1: (Int, Int), interval2: (Int, Int)) -> Bool:\n",
        "    if end_time:\n",
        "        return interval1[1] < interval2[1]\n",
        "    else:\n",
        "        return interval1[0] < interval2[0]\n",
        "\n",
        "\n",
        "fn min_meeting_rooms(mut intervals: List[(Int, Int)]) -> Int:\n",
        "    if len(intervals) == 0:\n",
        "        return 0\n",
        "\n",
        "    sort[compare_fn[False]](intervals)\n",
        "    starts = List[Int]()\n",
        "    ends = List[Int]()\n",
        "\n",
        "    @parameter\n",
        "    fn segregate[end_time: Bool = False](idx: Int):\n",
        "        if end_time:\n",
        "            ends.append(intervals[idx][1])\n",
        "        else:\n",
        "            starts.append(intervals[idx][0])\n",
        "\n",
        "    map[segregate[False]](len(intervals))\n",
        "    sort[compare_fn[True]](intervals)\n",
        "    map[segregate[True]](len(intervals))\n",
        "\n",
        "    print(starts.__str__())\n",
        "    print(ends.__str__())\n",
        "\n",
        "    return 100\n",
        "\n",
        "\n",
        "from testing import assert_true\n",
        "\n",
        "\n",
        "fn main() raises:\n",
        "    intervals = List[(Int, Int)]((0, 30), (5, 10), (15, 20))\n",
        "    expected = 100\n",
        "    result = min_meeting_rooms(intervals)\n",
        "    assert_true(result == expected, \"Assertion failed\")\n",
        "    intervals = List[(Int, Int)]((7, 10), (2, 4))\n",
        "    expected = 100\n",
        "    result = min_meeting_rooms(intervals)\n",
        "    assert_true(result == expected, \"Assertion failed\")\n",
        "    intervals = List[(Int, Int)]((1, 5), (8, 9), (8, 9))\n",
        "    expected = 100\n",
        "    result = min_meeting_rooms(intervals)\n",
        "    assert_true(result == expected, \"Assertion failed\")"
      ],
      "metadata": {
        "id": "9ljcqcz8keOw",
        "outputId": "d054dee3-99d4-40ab-a199-a8a4a8f0a93f",
        "colab": {
          "base_uri": "https://localhost:8080/"
        }
      },
      "execution_count": 38,
      "outputs": [
        {
          "output_type": "stream",
          "name": "stdout",
          "text": [
            "Overwriting min_meeting_rooms.mojo\n"
          ]
        }
      ]
    },
    {
      "cell_type": "code",
      "source": [
        "!magic run mojo min_meeting_rooms.mojo"
      ],
      "metadata": {
        "id": "ttztLnIjtEyZ",
        "outputId": "daf7ff97-b05c-487b-dd49-24ec876f4309",
        "colab": {
          "base_uri": "https://localhost:8080/"
        }
      },
      "execution_count": 39,
      "outputs": [
        {
          "output_type": "stream",
          "name": "stdout",
          "text": [
            "\u001b[32m⠁\u001b[0m                                                                               \r\u001b[2K\u001b[32m⠁\u001b[0m activating environment                                                        \r\u001b[2K\u001b[32m⠁\u001b[0m activating environment                                                        \r\u001b[2K[0, 5, 15]\n",
            "[10, 20, 30]\n",
            "[2, 7]\n",
            "[4, 10]\n",
            "[1, 8, 8]\n",
            "[5, 9, 9]\n"
          ]
        }
      ]
    },
    {
      "cell_type": "code",
      "source": [
        "!magic run mojo format min_meeting_rooms.mojo"
      ],
      "metadata": {
        "id": "ynmikGkNy1Sy",
        "outputId": "780d42b0-9782-4736-a9b2-24c5b0525a69",
        "colab": {
          "base_uri": "https://localhost:8080/"
        }
      },
      "execution_count": 36,
      "outputs": [
        {
          "output_type": "stream",
          "name": "stdout",
          "text": [
            "\u001b[32m⠁\u001b[0m                                                                               \r\u001b[2K\u001b[32m⠁\u001b[0m activating environment                                                        \r\u001b[2K\u001b[32m⠁\u001b[0m activating environment                                                        \r\u001b[2K\u001b[1mreformatted min_meeting_rooms.mojo\u001b[0m\n",
            "\n",
            "\u001b[1mAll done! ✨ 🍰 ✨\u001b[0m\n",
            "\u001b[34m\u001b[1m1 file \u001b[0m\u001b[1mreformatted\u001b[0m.\n"
          ]
        }
      ]
    },
    {
      "cell_type": "code",
      "source": [
        "!cat min_meeting_rooms.mojo"
      ],
      "metadata": {
        "id": "HRKT0Oy1y4CY",
        "outputId": "dbd7dfdb-fbe4-447c-c4fe-ca2a836e508a",
        "colab": {
          "base_uri": "https://localhost:8080/"
        }
      },
      "execution_count": 37,
      "outputs": [
        {
          "output_type": "stream",
          "name": "stdout",
          "text": [
            "### Metting rooms\n",
            "### Minimum Conference Rooms for Meeting Intervals\n",
            "\n",
            "from algorithm import map\n",
            "\n",
            "\n",
            "@parameter\n",
            "fn compare_fn[\n",
            "    end_time: Bool = False\n",
            "](interval1: (Int, Int), interval2: (Int, Int)) -> Bool:\n",
            "    if end_time:\n",
            "        return interval1[1] < interval2[1]\n",
            "    else:\n",
            "        return interval1[0] < interval2[0]\n",
            "\n",
            "\n",
            "fn min_meeting_rooms(mut intervals: List[(Int, Int)]) -> Int:\n",
            "    if len(intervals) == 0:\n",
            "        return 0\n",
            "\n",
            "    sort[compare_fn[False]](intervals)\n",
            "    starts = List[Int]()\n",
            "    ends = List[Int]()\n",
            "\n",
            "    @parameter\n",
            "    fn segregate[end_time: Bool = False](idx: Int):\n",
            "        if end_time:\n",
            "            ends.append(intervals[idx][1])\n",
            "        else:\n",
            "            starts.append(intervals[idx][0])\n",
            "\n",
            "    map[segregate[False]](len(intervals))\n",
            "    sort[compare_fn[True]](intervals)\n",
            "    map[segregate[True]](len(intervals))\n",
            "\n",
            "    print(starts.__str__())\n",
            "    print(ends.__str__())\n",
            "\n",
            "    return 100\n",
            "\n",
            "\n",
            "from testing import assert_true\n",
            "\n",
            "\n",
            "fn main() raises:\n",
            "    intervals = List[(Int, Int)]((0, 30), (5, 10), (15, 20))\n",
            "    expected = 100\n",
            "    result = min_meeting_rooms(intervals)\n",
            "    assert_true(result == expected, \"Assertion failed\")\n",
            "    intervals = List[(Int, Int)]((7, 10), (2, 4))\n",
            "    expected = 100\n",
            "    result = min_meeting_rooms(intervals)\n",
            "    assert_true(result == expected, \"Assertion failed\")\n",
            "    intervals = List[(Int, Int)]((1, 5), (8, 9), (8, 9))\n",
            "    expected = 100\n",
            "    result = min_meeting_rooms(intervals)\n",
            "    assert_true(result == expected, \"Assertion failed\")\n"
          ]
        }
      ]
    }
  ],
  "metadata": {
    "colab": {
      "provenance": [],
      "include_colab_link": true
    },
    "kaggle": {
      "accelerator": "nvidiaTeslaT4",
      "dataSources": [],
      "dockerImageVersionId": 31041,
      "isGpuEnabled": true,
      "isInternetEnabled": true,
      "language": "python",
      "sourceType": "notebook"
    },
    "kernelspec": {
      "display_name": "Python 3",
      "name": "python3"
    },
    "language_info": {
      "codemirror_mode": {
        "name": "ipython",
        "version": 3
      },
      "file_extension": ".py",
      "mimetype": "text/x-python",
      "name": "python",
      "nbconvert_exporter": "python",
      "pygments_lexer": "ipython3",
      "version": "3.11.11"
    }
  },
  "nbformat": 4,
  "nbformat_minor": 0
}