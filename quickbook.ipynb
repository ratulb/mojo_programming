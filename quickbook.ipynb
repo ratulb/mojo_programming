{
  "cells": [
    {
      "cell_type": "markdown",
      "metadata": {
        "id": "view-in-github",
        "colab_type": "text"
      },
      "source": [
        "<a href=\"https://colab.research.google.com/github/ratulb/mojo_programming/blob/main/quickbook.ipynb\" target=\"_parent\"><img src=\"https://colab.research.google.com/assets/colab-badge.svg\" alt=\"Open In Colab\"/></a>"
      ]
    },
    {
      "cell_type": "markdown",
      "source": [
        "**Mojo quickbook**"
      ],
      "metadata": {
        "id": "Gh82E_KBDg3z"
      }
    },
    {
      "cell_type": "code",
      "execution_count": 1,
      "metadata": {
        "id": "buOgxm25ONit",
        "outputId": "f4e5a5c0-eb5d-4c8a-a22d-43df1c87c27b",
        "colab": {
          "base_uri": "https://localhost:8080/"
        }
      },
      "outputs": [
        {
          "output_type": "stream",
          "name": "stdout",
          "text": [
            "Installing the latest version of Magic...\n",
            "  % Total    % Received % Xferd  Average Speed   Time    Time     Time  Current\n",
            "                                 Dload  Upload   Total   Spent    Left  Speed\n",
            "  0     0    0     0    0     0      0      0 --:--:--  0:00:01 --:--:--     0\n",
            "100 49.9M  100 49.9M    0     0  16.3M      0  0:00:03  0:00:03 --:--:-- 52.1M\n",
            "Done. The 'magic' binary is in '/root/.modular/bin'\n",
            "\n",
            "Two more steps:\n",
            "1. To use 'magic', run this command so it's in your PATH:\n",
            "source /root/.bashrc\n",
            "2. To build with MAX and Mojo, go to http://modul.ar/get-started\n"
          ]
        }
      ],
      "source": [
        "!curl -ssL https://magic.modular.com/ | bash"
      ]
    },
    {
      "cell_type": "code",
      "execution_count": 2,
      "metadata": {
        "id": "FVZvyhRiONiw"
      },
      "outputs": [],
      "source": [
        "import os\n",
        "os.environ['PATH'] +=':/root/.modular/bin'"
      ]
    },
    {
      "cell_type": "code",
      "execution_count": 3,
      "metadata": {
        "id": "TqFD0EK0ONiw",
        "outputId": "2c764610-85dc-480c-8035-4d66f77bf393",
        "colab": {
          "base_uri": "https://localhost:8080/"
        }
      },
      "outputs": [
        {
          "output_type": "stream",
          "name": "stdout",
          "text": [
            "\u001b[32m✔ \u001b[0mCreated /content/codes/mojoproject.toml\n"
          ]
        }
      ],
      "source": [
        "!magic init codes --format mojoproject"
      ]
    },
    {
      "cell_type": "code",
      "execution_count": 4,
      "metadata": {
        "id": "k3Ddb6GcONiw",
        "outputId": "7742dea4-6b54-45ad-c392-0a5a5ae1303e",
        "colab": {
          "base_uri": "https://localhost:8080/"
        }
      },
      "outputs": [
        {
          "output_type": "stream",
          "name": "stdout",
          "text": [
            "/content/codes\n"
          ]
        }
      ],
      "source": [
        "%cd codes/"
      ]
    },
    {
      "cell_type": "code",
      "execution_count": 107,
      "metadata": {
        "id": "IaxB1auxONix",
        "colab": {
          "base_uri": "https://localhost:8080/"
        },
        "outputId": "9fcaae95-97f2-4ee2-8f77-a90b36e98fc3"
      },
      "outputs": [
        {
          "output_type": "stream",
          "name": "stdout",
          "text": [
            "Overwriting merge_intervals.mojo\n"
          ]
        }
      ],
      "source": [
        "%%writefile merge_intervals.mojo\n",
        "\n",
        "### Merge Itervals\n",
        "### Merge overlapping intervals\n",
        "\n",
        "\n",
        "@parameter\n",
        "fn compare_fn(interval1: (Int, Int), interval2: (Int, Int)) -> Bool:\n",
        "    return interval1[0] < interval2[0]\n",
        "\n",
        "\n",
        "fn merge_intervals(mut intervals: List[(Int, Int)]) -> List[(Int, Int)]:\n",
        "    if len(intervals) == 0:\n",
        "        return List[(Int, Int)]()\n",
        "\n",
        "    sort[compare_fn](intervals)\n",
        "\n",
        "    result = List[(Int, Int)]()\n",
        "    result.append(intervals[0])\n",
        "    for curr_interval in intervals[1:]:\n",
        "        start, end = curr_interval[]\n",
        "        last_interval = result[-1]\n",
        "        last_start, last_end = last_interval\n",
        "        if start <= last_end:\n",
        "            result[len(result) - 1] = (last_start, max(last_end, end))\n",
        "        else:\n",
        "            result.append(curr_interval[])\n",
        "\n",
        "    return result\n",
        "\n",
        "\n",
        "from testing import assert_true\n",
        "\n",
        "\n",
        "fn main() raises:\n",
        "    intervals = List[(Int, Int)]((1, 3), (2, 6), (8, 10), (15, 18))\n",
        "    expected = List[(Int, Int)]((1, 6), (8, 10), (15, 18))\n",
        "    result = merge_intervals(intervals)\n",
        "    i = 0\n",
        "    for each in result:\n",
        "        assert_true(\n",
        "            each[][0] == expected[i][0] and each[][1] == expected[i][1],\n",
        "            \"Assertion failed\",\n",
        "        )\n",
        "        i += 1\n",
        "\n",
        "    intervals = List[(Int, Int)]((1, 4), (4, 5))\n",
        "    expected = List[(Int, Int)]((1, 5))\n",
        "    result = merge_intervals(intervals)\n",
        "    i = 0\n",
        "    for each in result:\n",
        "        assert_true(\n",
        "            each[][0] == expected[i][0] and each[][1] == expected[i][1],\n",
        "            \"Assertion failed\",\n",
        "        )\n",
        "        i += 1\n"
      ]
    },
    {
      "cell_type": "code",
      "execution_count": 108,
      "metadata": {
        "colab": {
          "base_uri": "https://localhost:8080/"
        },
        "id": "h2k9wkDaONiz",
        "outputId": "5b2461ab-4ee4-4633-8572-6ee7dd647738"
      },
      "outputs": [
        {
          "output_type": "stream",
          "name": "stdout",
          "text": [
            "\u001b[32m⠁\u001b[0m                                                                               \r\u001b[2K\u001b[32m⠁\u001b[0m activating environment                                                        \r\u001b[2K\u001b[32m⠁\u001b[0m activating environment                                                        \r\u001b[2K"
          ]
        }
      ],
      "source": [
        "!magic run mojo merge_intervals.mojo"
      ]
    },
    {
      "cell_type": "code",
      "execution_count": 105,
      "metadata": {
        "colab": {
          "base_uri": "https://localhost:8080/"
        },
        "id": "bSglX7bNONi0",
        "outputId": "24e912a4-ecc5-463d-a848-21189408635e"
      },
      "outputs": [
        {
          "output_type": "stream",
          "name": "stdout",
          "text": [
            "\u001b[32m⠁\u001b[0m                                                                               \r\u001b[2K\u001b[32m⠁\u001b[0m activating environment                                                        \r\u001b[2K\u001b[32m⠁\u001b[0m activating environment                                                        \r\u001b[2K\u001b[1mreformatted merge_intervals.mojo\u001b[0m\n",
            "\n",
            "\u001b[1mAll done! ✨ 🍰 ✨\u001b[0m\n",
            "\u001b[34m\u001b[1m1 file \u001b[0m\u001b[1mreformatted\u001b[0m.\n"
          ]
        }
      ],
      "source": [
        "!magic run mojo format merge_intervals.mojo"
      ]
    },
    {
      "cell_type": "code",
      "source": [
        "!cat merge_intervals.mojo"
      ],
      "metadata": {
        "colab": {
          "base_uri": "https://localhost:8080/"
        },
        "id": "z2OxrAfbJYKc",
        "outputId": "d1d2aea5-9b68-46a8-fe4d-3afebb806331"
      },
      "execution_count": 106,
      "outputs": [
        {
          "output_type": "stream",
          "name": "stdout",
          "text": [
            "### Merge Itervals\n",
            "### Merge overlapping intervals\n",
            "\n",
            "\n",
            "@parameter\n",
            "fn compare_fn(interval1: (Int, Int), interval2: (Int, Int)) -> Bool:\n",
            "    return interval1[0] < interval2[0]\n",
            "\n",
            "\n",
            "fn merge_intervals(mut intervals: List[(Int, Int)]) -> List[(Int, Int)]:\n",
            "    if len(intervals) == 0:\n",
            "        return List[(Int, Int)]()\n",
            "\n",
            "    sort[compare_fn](intervals)\n",
            "\n",
            "    result = List[(Int, Int)]()\n",
            "    result.append(intervals[0])\n",
            "    for curr_interval in intervals[1:]:\n",
            "        start, end = curr_interval[]\n",
            "        last_interval = result[-1]\n",
            "        last_start, last_end = last_interval\n",
            "        if start <= last_end:\n",
            "            result[len(result) - 1] = (last_start, max(last_end, end))\n",
            "        else:\n",
            "            result.append(curr_interval[])\n",
            "\n",
            "    return result\n",
            "\n",
            "\n",
            "from testing import assert_true\n",
            "\n",
            "\n",
            "fn main() raises:\n",
            "    intervals = List[(Int, Int)]((1, 3), (2, 6), (8, 10), (15, 18))\n",
            "    expected = List[(Int, Int)]((1, 6), (8, 10), (15, 18))\n",
            "    result = merge_intervals(intervals)\n",
            "    i = 0\n",
            "    for each in result:\n",
            "        assert_true(\n",
            "            each[][0] == expected[i][0] and each[][1] == expected[i][1],\n",
            "            \"Assertion failed\",\n",
            "        )\n",
            "        i += 1\n",
            "\n",
            "    intervals = List[(Int, Int)]((1, 4), (4, 5))\n",
            "    expected = List[(Int, Int)]((1, 5))\n",
            "    result = merge_intervals(intervals)\n",
            "    i = 0\n",
            "    for each in result:\n",
            "        assert_true(\n",
            "            each[][0] == expected[i][0] and each[][1] == expected[i][1],\n",
            "            \"Assertion failed\",\n",
            "        )\n",
            "        i += 1\n"
          ]
        }
      ]
    }
  ],
  "metadata": {
    "colab": {
      "provenance": [],
      "include_colab_link": true
    },
    "kaggle": {
      "accelerator": "nvidiaTeslaT4",
      "dataSources": [],
      "dockerImageVersionId": 31041,
      "isGpuEnabled": true,
      "isInternetEnabled": true,
      "language": "python",
      "sourceType": "notebook"
    },
    "kernelspec": {
      "display_name": "Python 3",
      "name": "python3"
    },
    "language_info": {
      "codemirror_mode": {
        "name": "ipython",
        "version": 3
      },
      "file_extension": ".py",
      "mimetype": "text/x-python",
      "name": "python",
      "nbconvert_exporter": "python",
      "pygments_lexer": "ipython3",
      "version": "3.11.11"
    }
  },
  "nbformat": 4,
  "nbformat_minor": 0
}