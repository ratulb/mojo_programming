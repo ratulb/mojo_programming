{
  "cells": [
    {
      "cell_type": "markdown",
      "metadata": {
        "id": "view-in-github",
        "colab_type": "text"
      },
      "source": [
        "<a href=\"https://colab.research.google.com/github/ratulb/mojo_programming/blob/main/quickbook.ipynb\" target=\"_parent\"><img src=\"https://colab.research.google.com/assets/colab-badge.svg\" alt=\"Open In Colab\"/></a>"
      ]
    },
    {
      "cell_type": "markdown",
      "source": [
        "**Mojo quickbook**"
      ],
      "metadata": {
        "id": "Gh82E_KBDg3z"
      }
    },
    {
      "cell_type": "code",
      "execution_count": null,
      "metadata": {
        "id": "buOgxm25ONit"
      },
      "outputs": [],
      "source": [
        "!curl -ssL https://magic.modular.com/ | bash"
      ]
    },
    {
      "cell_type": "code",
      "execution_count": null,
      "metadata": {
        "id": "FVZvyhRiONiw"
      },
      "outputs": [],
      "source": [
        "import os\n",
        "os.environ['PATH'] +=':/root/.modular/bin'"
      ]
    },
    {
      "cell_type": "code",
      "execution_count": null,
      "metadata": {
        "id": "TqFD0EK0ONiw"
      },
      "outputs": [],
      "source": [
        "!magic init codes --format mojoproject"
      ]
    },
    {
      "cell_type": "code",
      "execution_count": null,
      "metadata": {
        "id": "k3Ddb6GcONiw"
      },
      "outputs": [],
      "source": [
        "%cd codes/"
      ]
    },
    {
      "cell_type": "code",
      "execution_count": null,
      "metadata": {
        "id": "IaxB1auxONix",
        "colab": {
          "base_uri": "https://localhost:8080/"
        },
        "outputId": "1c86b6bb-c58c-4b9e-88e1-6e3c071c49cd"
      },
      "outputs": [
        {
          "output_type": "stream",
          "name": "stdout",
          "text": [
            "Overwriting find_first_last.mojo\n"
          ]
        }
      ],
      "source": [
        "%%writefile find_first_last.mojo\n",
        "\n",
        "### Find First/Last\n",
        "### Find first and last index of a target value in a sorted array\n",
        "\n",
        "fn find_first_last(arr: List[Int], target: Int) -> (Int, Int):\n",
        "    result = (-1, -1)\n",
        "    if len(arr) == 0:\n",
        "        return result\n",
        "    left, right = 0, len(arr) -1\n",
        "\n",
        "    while left <= right:\n",
        "        mid = (left + right) // 2\n",
        "        if arr[mid] == target:\n",
        "            result[1] = mid\n",
        "            left = mid + 1\n",
        "        elif arr[mid] > target:\n",
        "            right = mid - 1\n",
        "        else:\n",
        "            left = mid + 1\n",
        "    left, right = 0, result[1] # result[1] -1 would keep left index at -1 for single occurence of target\n",
        "\n",
        "    while left <= right:\n",
        "        mid = (left + right) // 2\n",
        "        if arr[mid] == target:\n",
        "            result[0] = mid\n",
        "            right = mid - 1\n",
        "        elif arr[mid] > target:\n",
        "            right = mid - 1\n",
        "        else:\n",
        "            left = mid + 1\n",
        "    return result\n",
        "\n",
        "from testing import assert_true\n",
        "\n",
        "fn main() raises:\n",
        "    arr = List(5,7,7,8,8,10)\n",
        "    target = 8\n",
        "    result = find_first_last(arr, target)\n",
        "    assert_true(result[0] == 3 and result[1] == 4, \"Assertion failed\")\n",
        "    target = 6\n",
        "    result = find_first_last(arr, target)\n",
        "    assert_true(result[0] == -1 and result[1] == -1, \"Assertion failed\")\n",
        "\n",
        "    arr = List(5,7,7,8,10)\n",
        "    target = 8\n",
        "    result = find_first_last(arr, target)\n",
        "    assert_true(result[0] == 3 and result[1] == 3, \"Assertion failed\")\n",
        "\n"
      ]
    },
    {
      "cell_type": "code",
      "execution_count": null,
      "metadata": {
        "colab": {
          "base_uri": "https://localhost:8080/"
        },
        "id": "h2k9wkDaONiz",
        "outputId": "c374f027-c4ce-454f-ca08-1f4f9c2bf141"
      },
      "outputs": [
        {
          "output_type": "stream",
          "name": "stdout",
          "text": [
            "\u001b[32m⠁\u001b[0m                                                                               \r\u001b[2K\u001b[32m⠁\u001b[0m activating environment                                                        \r\u001b[2K\u001b[32m⠁\u001b[0m activating environment                                                        \r\u001b[2K3 3\n"
          ]
        }
      ],
      "source": [
        "!magic run mojo find_first_last.mojo"
      ]
    },
    {
      "cell_type": "code",
      "execution_count": null,
      "metadata": {
        "colab": {
          "base_uri": "https://localhost:8080/"
        },
        "id": "bSglX7bNONi0",
        "outputId": "77b66492-8da2-483e-a074-c99d2fca3a79"
      },
      "outputs": [
        {
          "output_type": "stream",
          "name": "stdout",
          "text": [
            "\u001b[32m⠁\u001b[0m                                                                               \r\u001b[2K\u001b[32m⠁\u001b[0m activating environment                                                        \r\u001b[2K\u001b[32m⠁\u001b[0m activating environment                                                        \r\u001b[2K\u001b[1mreformatted find_first_last.mojo\u001b[0m\n",
            "\n",
            "\u001b[1mAll done! ✨ 🍰 ✨\u001b[0m\n",
            "\u001b[34m\u001b[1m1 file \u001b[0m\u001b[1mreformatted\u001b[0m.\n"
          ]
        }
      ],
      "source": [
        "!magic run mojo format find_first_last.mojo"
      ]
    },
    {
      "cell_type": "code",
      "source": [
        "!cat find_first_last.mojo"
      ],
      "metadata": {
        "colab": {
          "base_uri": "https://localhost:8080/"
        },
        "id": "z2OxrAfbJYKc",
        "outputId": "10fd7ac4-728c-4acc-c4c8-8fb863464700"
      },
      "execution_count": null,
      "outputs": [
        {
          "output_type": "stream",
          "name": "stdout",
          "text": [
            "### Find First/Last\n",
            "### Find first and last index of a target value in a sorted array\n",
            "\n",
            "\n",
            "fn find_first_last(arr: List[Int], target: Int) -> (Int, Int):\n",
            "    result = (-1, -1)\n",
            "    if len(arr) == 0:\n",
            "        return result\n",
            "    left, right = 0, len(arr) - 1\n",
            "\n",
            "    while left <= right:\n",
            "        mid = (left + right) // 2\n",
            "        if arr[mid] == target:\n",
            "            result[1] = mid\n",
            "            left = mid + 1\n",
            "        elif arr[mid] > target:\n",
            "            right = mid - 1\n",
            "        else:\n",
            "            left = mid + 1\n",
            "    left, right = (\n",
            "        0,\n",
            "        result[1],\n",
            "    )  # result[1] -1 would keep left index at -1 for single occurence of target\n",
            "\n",
            "    while left <= right:\n",
            "        mid = (left + right) // 2\n",
            "        if arr[mid] == target:\n",
            "            result[0] = mid\n",
            "            right = mid - 1\n",
            "        elif arr[mid] > target:\n",
            "            right = mid - 1\n",
            "        else:\n",
            "            left = mid + 1\n",
            "    return result\n",
            "\n",
            "\n",
            "from testing import assert_true\n",
            "\n",
            "\n",
            "fn main() raises:\n",
            "    arr = List(5, 7, 7, 8, 8, 10)\n",
            "    target = 8\n",
            "    result = find_first_last(arr, target)\n",
            "    assert_true(result[0] == 3 and result[1] == 4, \"Assertion failed\")\n",
            "    target = 6\n",
            "    result = find_first_last(arr, target)\n",
            "    assert_true(result[0] == -1 and result[1] == -1, \"Assertion failed\")\n",
            "\n",
            "    arr = List(5, 7, 7, 8, 10)\n",
            "    target = 8\n",
            "    result = find_first_last(arr, target)\n",
            "    assert_true(result[0] == 3 and result[1] == 3, \"Assertion failed\")\n"
          ]
        }
      ]
    }
  ],
  "metadata": {
    "colab": {
      "provenance": [],
      "include_colab_link": true
    },
    "kaggle": {
      "accelerator": "nvidiaTeslaT4",
      "dataSources": [],
      "dockerImageVersionId": 31041,
      "isGpuEnabled": true,
      "isInternetEnabled": true,
      "language": "python",
      "sourceType": "notebook"
    },
    "kernelspec": {
      "display_name": "Python 3",
      "name": "python3"
    },
    "language_info": {
      "codemirror_mode": {
        "name": "ipython",
        "version": 3
      },
      "file_extension": ".py",
      "mimetype": "text/x-python",
      "name": "python",
      "nbconvert_exporter": "python",
      "pygments_lexer": "ipython3",
      "version": "3.11.11"
    }
  },
  "nbformat": 4,
  "nbformat_minor": 0
}