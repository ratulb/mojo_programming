{
  "cells": [
    {
      "cell_type": "code",
      "source": [
        "!nvcc --version"
      ],
      "metadata": {
        "id": "bSI44f7M-hWp"
      },
      "execution_count": null,
      "outputs": []
    },
    {
      "cell_type": "code",
      "source": [
        "!nvidia-smi"
      ],
      "metadata": {
        "id": "cTOmTYZa-jBx"
      },
      "execution_count": null,
      "outputs": []
    },
    {
      "cell_type": "code",
      "source": [
        "!curl -ssL https://magic.modular.com/ | bash"
      ],
      "metadata": {
        "colab": {
          "base_uri": "https://localhost:8080/"
        },
        "id": "qr8tmarU-p64",
        "outputId": "d5fbcd25-29d3-4046-daf6-0398514393f3"
      },
      "execution_count": 1,
      "outputs": [
        {
          "output_type": "stream",
          "name": "stdout",
          "text": [
            "Installing the latest version of Magic...\n",
            "  % Total    % Received % Xferd  Average Speed   Time    Time     Time  Current\n",
            "                                 Dload  Upload   Total   Spent    Left  Speed\n",
            "  0     0    0     0    0     0      0      0 --:--:--  0:00:03 --:--:--     0\n",
            "100 49.9M  100 49.9M    0     0  8330k      0  0:00:06  0:00:06 --:--:-- 33.3M\n",
            "Done. The 'magic' binary is in '/root/.modular/bin'\n",
            "\n",
            "Two more steps:\n",
            "1. To use 'magic', run this command so it's in your PATH:\n",
            "source /root/.bashrc\n",
            "2. To build with MAX and Mojo, go to http://modul.ar/get-started\n"
          ]
        }
      ]
    },
    {
      "cell_type": "code",
      "source": [
        "import os\n",
        "os.environ['PATH'] += ':/root/.modular/bin'"
      ],
      "metadata": {
        "id": "u22u-EjZ-u6I"
      },
      "execution_count": 2,
      "outputs": []
    },
    {
      "cell_type": "code",
      "source": [
        "!magic init mojo_kernels --format mojoproject"
      ],
      "metadata": {
        "colab": {
          "base_uri": "https://localhost:8080/"
        },
        "id": "MEJigwCb-yxY",
        "outputId": "97b7c51c-cb62-43bf-8d99-3d7937c500fd"
      },
      "execution_count": 3,
      "outputs": [
        {
          "output_type": "stream",
          "name": "stdout",
          "text": [
            "\u001b[32m✔ \u001b[0mCreated /content/mojo_kernels/mojoproject.toml\n"
          ]
        }
      ]
    },
    {
      "cell_type": "code",
      "source": [
        "%cd mojo_kernels/"
      ],
      "metadata": {
        "colab": {
          "base_uri": "https://localhost:8080/"
        },
        "id": "Ccp3B2mc-3xB",
        "outputId": "b10b9c5c-d906-4848-99e2-38c4473500d5"
      },
      "execution_count": 4,
      "outputs": [
        {
          "output_type": "stream",
          "name": "stdout",
          "text": [
            "/content/mojo_kernels\n"
          ]
        }
      ]
    },
    {
      "cell_type": "code",
      "source": [
        "!magic run mojo --version"
      ],
      "metadata": {
        "id": "wSS-8F2J-5OA"
      },
      "execution_count": null,
      "outputs": []
    },
    {
      "cell_type": "code",
      "source": [
        "%%writefile sum_reduce_kernel.mojo\n",
        "\n",
        "from gpu import thread_idx, block_idx, barrier\n",
        "from gpu.host import DeviceContext\n",
        "from gpu.memory import AddressSpace\n",
        "from layout import Layout, LayoutTensor\n",
        "from math import iota\n",
        "from memory import stack_allocation\n",
        "\n",
        "\n",
        "alias dtype = DType.uint32\n",
        "alias blocks = 4\n",
        "alias threads = 4\n",
        "alias layout = Layout.row_major(blocks, threads)\n",
        "alias in_elements = blocks * threads\n",
        "alias out_layout = Layout.row_major(in_elements)\n",
        "alias InTensor = LayoutTensor[dtype, layout, MutableAnyOrigin]\n",
        "alias OutTensor = LayoutTensor[dtype, out_layout, MutableAnyOrigin]\n",
        "\n",
        "\n",
        "fn sum_reduce_kernel(in_tensor: InTensor, out_tensor: OutTensor):\n",
        "    var shared = stack_allocation[\n",
        "        threads, Scalar[dtype], address_space = AddressSpace.SHARED\n",
        "    ]()\n",
        "    shared[thread_idx.x] = in_tensor[block_idx.x, thread_idx.x][0]\n",
        "\n",
        "    barrier()\n",
        "\n",
        "    if thread_idx.x == 0:\n",
        "        for i in range(threads):\n",
        "            out_tensor[block_idx.x] += shared[i]\n",
        "\n",
        "\n",
        "fn main() raises:\n",
        "    ctx = DeviceContext()\n",
        "    in_buffer = ctx.enqueue_create_buffer[dtype](in_elements)\n",
        "    out_buffer = ctx.enqueue_create_buffer[dtype](blocks)\n",
        "    _ = out_buffer.enqueue_fill(0)\n",
        "    out_tensor = OutTensor(out_buffer)\n",
        "\n",
        "    with in_buffer.map_to_host() as host_buffer:\n",
        "        iota(host_buffer.unsafe_ptr(), in_elements)\n",
        "        print(host_buffer)\n",
        "\n",
        "    in_tensor = InTensor(in_buffer)\n",
        "\n",
        "    ctx.enqueue_function[sum_reduce_kernel](\n",
        "        in_tensor,\n",
        "        out_tensor,\n",
        "        grid_dim=blocks,\n",
        "        block_dim=threads,\n",
        "    )\n",
        "\n",
        "    with out_buffer.map_to_host() as host_buffer:\n",
        "        print(host_buffer)\n",
        "\n"
      ],
      "metadata": {
        "colab": {
          "base_uri": "https://localhost:8080/"
        },
        "id": "bJAK2l2t_XBR",
        "outputId": "4e61cf52-da5e-4c32-d087-e6fd31e779e2"
      },
      "execution_count": 17,
      "outputs": [
        {
          "output_type": "stream",
          "name": "stdout",
          "text": [
            "Overwriting sum_reduce_kernel.mojo\n"
          ]
        }
      ]
    },
    {
      "cell_type": "code",
      "source": [
        "!magic run mojo sum_reduce_kernel.mojo"
      ],
      "metadata": {
        "colab": {
          "base_uri": "https://localhost:8080/"
        },
        "id": "jXIyS5ZHBsXJ",
        "outputId": "a324bf6d-80a1-409f-9dc0-81d71d4390af"
      },
      "execution_count": 18,
      "outputs": [
        {
          "output_type": "stream",
          "name": "stdout",
          "text": [
            "\u001b[32m⠁\u001b[0m                                                                               \r\u001b[2K\u001b[32m⠁\u001b[0m activating environment                                                        \r\u001b[2K\u001b[32m⠁\u001b[0m activating environment                                                        \r\u001b[2KHostBuffer([0, 1, 2, 3, 4, 5, 6, 7, 8, 9, 10, 11, 12, 13, 14, 15])\n",
            "HostBuffer([6, 22, 38, 54])\n"
          ]
        }
      ]
    },
    {
      "cell_type": "code",
      "source": [
        "!magic run mojo format sum_reduce_kernel.mojo"
      ],
      "metadata": {
        "id": "fhA9IlIJDODE",
        "outputId": "51af78f7-4308-4e2b-afcd-9a1e951154a6",
        "colab": {
          "base_uri": "https://localhost:8080/"
        }
      },
      "execution_count": 15,
      "outputs": [
        {
          "output_type": "stream",
          "name": "stdout",
          "text": [
            "\u001b[32m⠁\u001b[0m                                                                               \r\u001b[2K\u001b[32m⠁\u001b[0m activating environment                                                        \r\u001b[2K\u001b[32m⠁\u001b[0m activating environment                                                        \r\u001b[2K\u001b[1mreformatted sum_reduce_kernel.mojo\u001b[0m\n",
            "\n",
            "\u001b[1mAll done! ✨ 🍰 ✨\u001b[0m\n",
            "\u001b[34m\u001b[1m1 file \u001b[0m\u001b[1mreformatted\u001b[0m.\n"
          ]
        }
      ]
    }
  ],
  "metadata": {
    "colab": {
      "name": "Welcome To Colab",
      "provenance": [],
      "gpuType": "T4"
    },
    "kernelspec": {
      "display_name": "Python 3",
      "name": "python3"
    },
    "accelerator": "GPU"
  },
  "nbformat": 4,
  "nbformat_minor": 0
}
