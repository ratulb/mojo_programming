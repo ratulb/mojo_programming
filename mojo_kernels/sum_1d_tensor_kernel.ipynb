{
  "cells": [
    {
      "cell_type": "code",
      "source": [
        "!nvcc --version"
      ],
      "metadata": {
        "id": "WIdSr3L-7JAo",
        "colab": {
          "base_uri": "https://localhost:8080/"
        },
        "outputId": "aa862d26-5d80-4b10-dc67-a89bcf97bdfe"
      },
      "execution_count": 1,
      "outputs": [
        {
          "output_type": "stream",
          "name": "stdout",
          "text": [
            "nvcc: NVIDIA (R) Cuda compiler driver\n",
            "Copyright (c) 2005-2024 NVIDIA Corporation\n",
            "Built on Thu_Jun__6_02:18:23_PDT_2024\n",
            "Cuda compilation tools, release 12.5, V12.5.82\n",
            "Build cuda_12.5.r12.5/compiler.34385749_0\n"
          ]
        }
      ]
    },
    {
      "cell_type": "code",
      "source": [
        "!nvidia-smi"
      ],
      "metadata": {
        "id": "QD3_lbAe7OFA",
        "colab": {
          "base_uri": "https://localhost:8080/"
        },
        "outputId": "aca08abe-01a1-4b7a-ce5f-5fdc9c3439f1"
      },
      "execution_count": 2,
      "outputs": [
        {
          "output_type": "stream",
          "name": "stdout",
          "text": [
            "Tue May 13 04:50:43 2025       \n",
            "+-----------------------------------------------------------------------------------------+\n",
            "| NVIDIA-SMI 550.54.15              Driver Version: 550.54.15      CUDA Version: 12.4     |\n",
            "|-----------------------------------------+------------------------+----------------------+\n",
            "| GPU  Name                 Persistence-M | Bus-Id          Disp.A | Volatile Uncorr. ECC |\n",
            "| Fan  Temp   Perf          Pwr:Usage/Cap |           Memory-Usage | GPU-Util  Compute M. |\n",
            "|                                         |                        |               MIG M. |\n",
            "|=========================================+========================+======================|\n",
            "|   0  Tesla T4                       Off |   00000000:00:04.0 Off |                    0 |\n",
            "| N/A   37C    P8              9W /   70W |       0MiB /  15360MiB |      0%      Default |\n",
            "|                                         |                        |                  N/A |\n",
            "+-----------------------------------------+------------------------+----------------------+\n",
            "                                                                                         \n",
            "+-----------------------------------------------------------------------------------------+\n",
            "| Processes:                                                                              |\n",
            "|  GPU   GI   CI        PID   Type   Process name                              GPU Memory |\n",
            "|        ID   ID                                                               Usage      |\n",
            "|=========================================================================================|\n",
            "|  No running processes found                                                             |\n",
            "+-----------------------------------------------------------------------------------------+\n"
          ]
        }
      ]
    },
    {
      "cell_type": "code",
      "source": [
        "!curl -ssL https://magic.modular.com/ | bash"
      ],
      "metadata": {
        "id": "A8X6phvz7ZoQ",
        "colab": {
          "base_uri": "https://localhost:8080/"
        },
        "outputId": "3f3b8432-3285-4d13-cd1d-9cfd2dd4322a"
      },
      "execution_count": 3,
      "outputs": [
        {
          "output_type": "stream",
          "name": "stdout",
          "text": [
            "Installing the latest version of Magic...\n",
            "  % Total    % Received % Xferd  Average Speed   Time    Time     Time  Current\n",
            "                                 Dload  Upload   Total   Spent    Left  Speed\n",
            "  0     0    0     0    0     0      0      0 --:--:--  0:00:02 --:--:--     0\n",
            "100 49.9M  100 49.9M    0     0  12.8M      0  0:00:03  0:00:03 --:--:-- 39.7M\n",
            "Done. The 'magic' binary is in '/root/.modular/bin'\n",
            "\n",
            "Two more steps:\n",
            "1. To use 'magic', run this command so it's in your PATH:\n",
            "source /root/.bashrc\n",
            "2. To build with MAX and Mojo, go to http://modul.ar/get-started\n"
          ]
        }
      ]
    },
    {
      "cell_type": "code",
      "source": [
        "import os\n",
        "os.environ['PATH'] += ':/root/.modular/bin'"
      ],
      "metadata": {
        "id": "n7zS_6gK7fnB"
      },
      "execution_count": 4,
      "outputs": []
    },
    {
      "cell_type": "code",
      "source": [
        "!magic init mojo_kernels --format mojoproject"
      ],
      "metadata": {
        "id": "Zlg5BNMn7j64",
        "colab": {
          "base_uri": "https://localhost:8080/"
        },
        "outputId": "2610f56b-ef54-4108-db1f-7e3df9b2e79a"
      },
      "execution_count": 5,
      "outputs": [
        {
          "output_type": "stream",
          "name": "stdout",
          "text": [
            "\u001b[32m✔ \u001b[0mCreated /content/mojo_kernels/mojoproject.toml\n"
          ]
        }
      ]
    },
    {
      "cell_type": "code",
      "source": [
        "%cd mojo_kernels/"
      ],
      "metadata": {
        "id": "mO77-mj17lsA",
        "colab": {
          "base_uri": "https://localhost:8080/"
        },
        "outputId": "3dc418c8-59ed-40e3-ea32-6584a1e773a2"
      },
      "execution_count": 6,
      "outputs": [
        {
          "output_type": "stream",
          "name": "stdout",
          "text": [
            "/content/mojo_kernels\n"
          ]
        }
      ]
    },
    {
      "cell_type": "code",
      "source": [
        "%%writefile sum_1d_tensor_kernel.mojo\n",
        "\n",
        "from gpu import thread_idx, block_idx, grid_dim\n",
        "from gpu.host import DeviceContext\n",
        "from math import iota\n",
        "from layout import Layout, LayoutTensor\n",
        "from sys.intrinsics import _GridDim, _BlockIdx\n",
        "from algorithm import vectorize\n",
        "from sys import simdwidthof\n",
        "\n",
        "# The data type of tensor elements\n",
        "alias dtype = DType.uint32\n",
        "# The number of thread blocks\n",
        "alias blocks = 20\n",
        "# We launch one thread per block which is responsible for summing up section of the input 1d tensor\n",
        "alias threads = 1\n",
        "# Count of elements in the tensor (2 ^ 10) + 3\n",
        "# The left over elements are summed by the thread in the last block\n",
        "alias elems_count = (1 << 10) + 3\n",
        "# Row major layout of the tensor elements\n",
        "alias layout = Layout.row_major(1, elems_count)\n",
        "alias output_layout = Layout.row_major(blocks)\n",
        "\n",
        "\n",
        "# The summer function takes a range of elements from the input tensor and sums up a section starting at\n",
        "# `start` and ending at `end`\n",
        "# It makes use of vectorize in-built function from mojo standard libray\n",
        "fn summer[\n",
        "    type: DType, layout: Layout, //, simdwidth: Int = simdwidthof[type]()\n",
        "](\n",
        "    tensor: LayoutTensor[type, layout, MutableAnyOrigin],\n",
        "    start: Int = 0,\n",
        "    end: Int = layout.size(),\n",
        ") -> Scalar[type]:\n",
        "    result = Scalar[type](0)\n",
        "\n",
        "    @parameter\n",
        "    fn sum[simd_width: Int](idx: Int):\n",
        "        result += tensor.load[width=simd_width](0, start + idx).reduce_add()\n",
        "\n",
        "    vectorize[sum, simdwidth](end - start)\n",
        "    return result\n",
        "\n",
        "\n",
        "# Calculate the `start` and `end` indices of section of the 1d input tensor that block in_tensor\n",
        "#  responsible for summing up\n",
        "fn block_indices(\n",
        "    in_tensor: LayoutTensor,\n",
        "    griddim: _GridDim,\n",
        "    blockidx: _BlockIdx,\n",
        ") -> (Int, Int):\n",
        "    elems_per_block = in_tensor.size() // griddim.x\n",
        "    remaining = in_tensor.size() % griddim.x\n",
        "\n",
        "    start = elems_per_block * blockidx.x\n",
        "    end = start + elems_per_block\n",
        "\n",
        "    if blockidx.x == griddim.x - 1:\n",
        "        end += remaining  # Handle leftover elements in last block\n",
        "\n",
        "    return start, end\n",
        "\n",
        "\n",
        "# The mojo kernel\n",
        "fn sum_1d_tensor_kernel(\n",
        "    in_tensor: LayoutTensor[dtype, layout, MutableAnyOrigin],\n",
        "    out_tensor: LayoutTensor[dtype, output_layout, MutableAnyOrigin],\n",
        "):\n",
        "    start, end = block_indices(in_tensor, grid_dim, block_idx)\n",
        "    result = summer(in_tensor, start, end)\n",
        "    out_tensor[block_idx.x] = result\n",
        "\n",
        "\n",
        "def main():\n",
        "    var ctx = DeviceContext()\n",
        "    var device_input_buff = ctx.enqueue_create_buffer[dtype](elems_count)\n",
        "    var device_output_buff = ctx.enqueue_create_buffer[dtype](blocks)\n",
        "\n",
        "    _ = device_output_buff.enqueue_fill(0)\n",
        "\n",
        "    with device_input_buff.map_to_host() as host_input_buff:\n",
        "        iota(host_input_buff.unsafe_ptr(), elems_count)\n",
        "        print(host_input_buff)\n",
        "\n",
        "        in_tensor = LayoutTensor[dtype, layout, MutableAnyOrigin](\n",
        "            device_input_buff\n",
        "        )\n",
        "        out_tensor = LayoutTensor[dtype, output_layout, MutableAnyOrigin](\n",
        "            device_output_buff\n",
        "        )\n",
        "\n",
        "    ctx.enqueue_function[sum_1d_tensor_kernel](\n",
        "        in_tensor, out_tensor, grid_dim=blocks, block_dim=threads\n",
        "    )\n",
        "\n",
        "    ctx.synchronize()\n",
        "    print(\"Output buff\")\n",
        "    with device_output_buff.map_to_host() as host_output_buff:\n",
        "        print(host_output_buff)\n",
        "        result_tensor = LayoutTensor[\n",
        "            dtype, Layout.row_major(1, blocks), MutableAnyOrigin\n",
        "        ](host_output_buff)\n",
        "        result = summer(result_tensor)\n",
        "        print(result)\n"
      ],
      "metadata": {
        "id": "UT3V1O2M7txw",
        "colab": {
          "base_uri": "https://localhost:8080/"
        },
        "outputId": "7b0a1a79-3c1c-4541-dbc5-48aa56181baa"
      },
      "execution_count": 49,
      "outputs": [
        {
          "output_type": "stream",
          "name": "stdout",
          "text": [
            "Overwriting sum_1d_tensor_kernel.mojo\n"
          ]
        }
      ]
    },
    {
      "cell_type": "code",
      "source": [
        "!magic run mojo sum_1d_tensor_kernel.mojo"
      ],
      "metadata": {
        "id": "CkjRGISm7y1Q",
        "outputId": "04d49b9c-5212-44c4-9d00-ba834fabd57f",
        "colab": {
          "base_uri": "https://localhost:8080/"
        }
      },
      "execution_count": 47,
      "outputs": [
        {
          "output_type": "stream",
          "name": "stdout",
          "text": [
            "\u001b[32m⠁\u001b[0m                                                                               \r\u001b[2K\u001b[32m⠁\u001b[0m activating environment                                                        \r\u001b[2K\u001b[32m⠁\u001b[0m activating environment                                                        \r\u001b[2KHostBuffer([0, 1, 2, ..., 1024, 1025, 1026])\n",
            "Output buff\n",
            "HostBuffer([1275, 3876, 6477, 9078, 11679, 14280, 16881, 19482, 22083, 24684, 27285, 29886, 32487, 35088, 37689, 40290, 42891, 45492, 48093, 57855])\n",
            "526851\n"
          ]
        }
      ]
    },
    {
      "cell_type": "code",
      "source": [
        "!magic run mojo format sum_1d_tensor_kernel.mojo"
      ],
      "metadata": {
        "colab": {
          "base_uri": "https://localhost:8080/"
        },
        "id": "Cc2XVTrevpy5",
        "outputId": "94caa11c-da3a-4da0-d275-04ce5c8e6b7a"
      },
      "execution_count": 48,
      "outputs": [
        {
          "output_type": "stream",
          "name": "stdout",
          "text": [
            "\u001b[32m⠁\u001b[0m                                                                               \r\u001b[2K\u001b[32m⠁\u001b[0m activating environment                                                        \r\u001b[2K\u001b[32m⠁\u001b[0m activating environment                                                        \r\u001b[2K\u001b[1mreformatted sum_1d_tensor_kernel.mojo\u001b[0m\n",
            "\n",
            "\u001b[1mAll done! ✨ 🍰 ✨\u001b[0m\n",
            "\u001b[34m\u001b[1m1 file \u001b[0m\u001b[1mreformatted\u001b[0m.\n"
          ]
        }
      ]
    },
    {
      "cell_type": "code",
      "source": [
        "8 + 9 + 10 + 11 + 12 + 13 + 14 + 15"
      ],
      "metadata": {
        "id": "RTkyLDH72eF5",
        "outputId": "82002cd0-9528-4953-8ca9-edf28ddf658c",
        "colab": {
          "base_uri": "https://localhost:8080/"
        }
      },
      "execution_count": null,
      "outputs": [
        {
          "output_type": "execute_result",
          "data": {
            "text/plain": [
              "92"
            ]
          },
          "metadata": {},
          "execution_count": 38
        }
      ]
    },
    {
      "cell_type": "code",
      "source": [
        "92 + 156 + 28 + 319 - 32 - 33 - 34"
      ],
      "metadata": {
        "id": "zgcmHqta2oD5",
        "outputId": "7fa87c6f-5686-4a6e-bb42-fc9f5102405c",
        "colab": {
          "base_uri": "https://localhost:8080/"
        }
      },
      "execution_count": null,
      "outputs": [
        {
          "output_type": "execute_result",
          "data": {
            "text/plain": [
              "496"
            ]
          },
          "metadata": {},
          "execution_count": 40
        }
      ]
    }
  ],
  "metadata": {
    "colab": {
      "name": "Welcome To Colab",
      "provenance": [],
      "gpuType": "T4"
    },
    "kernelspec": {
      "display_name": "Python 3",
      "name": "python3"
    },
    "accelerator": "GPU"
  },
  "nbformat": 4,
  "nbformat_minor": 0
}
