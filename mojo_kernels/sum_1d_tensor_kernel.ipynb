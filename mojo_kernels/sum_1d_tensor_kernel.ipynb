{
  "cells": [
    {
      "cell_type": "markdown",
      "metadata": {
        "id": "view-in-github",
        "colab_type": "text"
      },
      "source": [
        "<a href=\"https://colab.research.google.com/github/ratulb/mojo_programming/blob/main/mojo_kernels/sum_1d_tensor_kernel.ipynb\" target=\"_parent\"><img src=\"https://colab.research.google.com/assets/colab-badge.svg\" alt=\"Open In Colab\"/></a>"
      ]
    },
    {
      "cell_type": "code",
      "source": [
        "!nvcc --version"
      ],
      "metadata": {
        "id": "WIdSr3L-7JAo"
      },
      "execution_count": null,
      "outputs": []
    },
    {
      "cell_type": "code",
      "source": [
        "!nvidia-smi"
      ],
      "metadata": {
        "id": "QD3_lbAe7OFA"
      },
      "execution_count": null,
      "outputs": []
    },
    {
      "cell_type": "code",
      "source": [
        "!curl -ssL https://magic.modular.com/ | bash"
      ],
      "metadata": {
        "id": "A8X6phvz7ZoQ"
      },
      "execution_count": null,
      "outputs": []
    },
    {
      "cell_type": "code",
      "source": [
        "import os\n",
        "os.environ['PATH'] += ':/root/.modular/bin'"
      ],
      "metadata": {
        "id": "n7zS_6gK7fnB"
      },
      "execution_count": null,
      "outputs": []
    },
    {
      "cell_type": "code",
      "source": [
        "!magic init mojo_kernels --format mojoproject"
      ],
      "metadata": {
        "id": "Zlg5BNMn7j64"
      },
      "execution_count": null,
      "outputs": []
    },
    {
      "cell_type": "code",
      "source": [
        "%cd mojo_kernels/"
      ],
      "metadata": {
        "id": "mO77-mj17lsA"
      },
      "execution_count": null,
      "outputs": []
    },
    {
      "cell_type": "code",
      "source": [
        "%%writefile sum_1d_tensor_kernel.mojo\n",
        "\n",
        "from gpu import thread_idx, block_idx, grid_dim\n",
        "from gpu.host import DeviceContext\n",
        "from math import iota\n",
        "from layout import Layout, LayoutTensor\n",
        "from sys.intrinsics import _GridDim, _BlockIdx\n",
        "from algorithm import vectorize\n",
        "from sys import simdwidthof\n",
        "\n",
        "\n",
        "alias dtype = DType.uint32\n",
        "alias blocks = 4\n",
        "alias threads = 1\n",
        "alias elems_count = (1 << 5) + 3\n",
        "alias layout = Layout.row_major(1, elems_count)\n",
        "\n",
        "\n",
        "fn summer[\n",
        "    type: DType, layout: Layout, //, simdwidth: Int = simdwidthof[type]()\n",
        "](\n",
        "    tensor: LayoutTensor[type, layout, MutableAnyOrigin],\n",
        "    start: Int = 0,\n",
        "    end: Int = layout.size(),\n",
        ") -> Scalar[type]:\n",
        "    result = Scalar[type](0)\n",
        "\n",
        "    @parameter\n",
        "    fn sum[simd_width: Int](idx: Int):\n",
        "        result += tensor.load[width=simd_width](0, start + idx).reduce_add()\n",
        "\n",
        "    vectorize[sum, simdwidth](end - start)\n",
        "    return result\n",
        "\n",
        "\n",
        "fn block_indices(\n",
        "    in_tensor: LayoutTensor,\n",
        "    griddim: _GridDim,\n",
        "    blockidx: _BlockIdx,\n",
        ") -> (Int, Int):\n",
        "    elems_per_block = in_tensor.size() // griddim.x\n",
        "    remaining = in_tensor.size() % griddim.x\n",
        "\n",
        "    start = elems_per_block * blockidx.x\n",
        "    end = start + elems_per_block\n",
        "\n",
        "    if blockidx.x == griddim.x - 1:\n",
        "        end += remaining  # Handle leftover elements in last block\n",
        "\n",
        "    return start, end\n",
        "\n",
        "fn sum_1d_tensor_kernel(\n",
        "    in_tensor: LayoutTensor[dtype, layout, MutableAnyOrigin]\n",
        "):\n",
        "    start, end = block_indices(in_tensor, grid_dim, block_idx)\n",
        "    print(start, end)\n",
        "    result = summer(in_tensor, start, end)\n",
        "    print(result)\n",
        "\n",
        "\n",
        "def main():\n",
        "    var ctx = DeviceContext()\n",
        "    var device_input_buff = ctx.enqueue_create_buffer[dtype](elems_count)\n",
        "\n",
        "    with device_input_buff.map_to_host() as host_input_buff:\n",
        "        iota(host_input_buff.unsafe_ptr(), elems_count)\n",
        "        print(host_input_buff)\n",
        "\n",
        "        in_tensor = LayoutTensor[dtype, layout, MutableAnyOrigin](\n",
        "            device_input_buff\n",
        "        )\n",
        "\n",
        "    ctx.enqueue_function[sum_1d_tensor_kernel](\n",
        "        in_tensor, grid_dim=blocks, block_dim=threads\n",
        "    )\n",
        "\n",
        "    ctx.synchronize()\n",
        "    print(\"ok\")\n"
      ],
      "metadata": {
        "id": "UT3V1O2M7txw",
        "colab": {
          "base_uri": "https://localhost:8080/"
        },
        "outputId": "5b975d15-9121-45a7-e862-cb00354b3dc4"
      },
      "execution_count": null,
      "outputs": [
        {
          "output_type": "stream",
          "name": "stdout",
          "text": [
            "Overwriting sum_1d_tensor_kernel.mojo\n"
          ]
        }
      ]
    },
    {
      "cell_type": "code",
      "source": [
        "!magic run mojo sum_1d_tensor_kernel.mojo"
      ],
      "metadata": {
        "id": "CkjRGISm7y1Q",
        "outputId": "8d1e0fa2-5796-4e97-d369-b85cbe128d07",
        "colab": {
          "base_uri": "https://localhost:8080/"
        }
      },
      "execution_count": null,
      "outputs": [
        {
          "output_type": "stream",
          "name": "stdout",
          "text": [
            "\u001b[32m⠁\u001b[0m                                                                               \r\u001b[2K\u001b[32m⠁\u001b[0m activating environment                                                        \r\u001b[2K\u001b[32m⠁\u001b[0m activating environment                                                        \r\u001b[2KHostBuffer([0, 1, 2, 3, 4, 5, 6, 7, 8, 9, 10, 11, 12, 13, 14, 15, 16, 17, 18, 19, 20, 21, 22, 23, 24, 25, 26, 27, 28, 29, 30, 31, 32, 33, 34])\n",
            "0 8\n",
            "8 16\n",
            "16 24\n",
            "24 35\n",
            "92\n",
            "156\n",
            "28\n",
            "319\n",
            "ok\n"
          ]
        }
      ]
    },
    {
      "cell_type": "code",
      "source": [
        "!magic run mojo format sum_1d_tensor_kernel.mojo"
      ],
      "metadata": {
        "colab": {
          "base_uri": "https://localhost:8080/"
        },
        "id": "Cc2XVTrevpy5",
        "outputId": "3a5d6c0b-7598-473d-8ed0-02678e9143c3"
      },
      "execution_count": null,
      "outputs": [
        {
          "output_type": "stream",
          "name": "stdout",
          "text": [
            "\u001b[32m⠁\u001b[0m                                                                               \r\u001b[2K\u001b[32m⠁\u001b[0m activating environment                                                        \r\u001b[2K\u001b[32m⠁\u001b[0m activating environment                                                        \r\u001b[2K\u001b[1mreformatted sum_1d_tensor_kernel.mojo\u001b[0m\n",
            "\n",
            "\u001b[1mAll done! ✨ 🍰 ✨\u001b[0m\n",
            "\u001b[34m\u001b[1m1 file \u001b[0m\u001b[1mreformatted\u001b[0m.\n"
          ]
        }
      ]
    },
    {
      "cell_type": "code",
      "source": [
        "8 + 9 + 10 + 11 + 12 + 13 + 14 + 15"
      ],
      "metadata": {
        "id": "RTkyLDH72eF5",
        "outputId": "82002cd0-9528-4953-8ca9-edf28ddf658c",
        "colab": {
          "base_uri": "https://localhost:8080/"
        }
      },
      "execution_count": null,
      "outputs": [
        {
          "output_type": "execute_result",
          "data": {
            "text/plain": [
              "92"
            ]
          },
          "metadata": {},
          "execution_count": 38
        }
      ]
    },
    {
      "cell_type": "code",
      "source": [
        "92 + 156 + 28 + 319 - 32 - 33 - 34"
      ],
      "metadata": {
        "id": "zgcmHqta2oD5",
        "outputId": "7fa87c6f-5686-4a6e-bb42-fc9f5102405c",
        "colab": {
          "base_uri": "https://localhost:8080/"
        }
      },
      "execution_count": null,
      "outputs": [
        {
          "output_type": "execute_result",
          "data": {
            "text/plain": [
              "496"
            ]
          },
          "metadata": {},
          "execution_count": 40
        }
      ]
    }
  ],
  "metadata": {
    "colab": {
      "provenance": [],
      "gpuType": "T4",
      "include_colab_link": true
    },
    "kernelspec": {
      "display_name": "Python 3",
      "name": "python3"
    },
    "accelerator": "GPU"
  },
  "nbformat": 4,
  "nbformat_minor": 0
}