{
  "cells": [
    {
      "cell_type": "code",
      "source": [
        "!nvcc --version"
      ],
      "metadata": {
        "id": "WIdSr3L-7JAo"
      },
      "execution_count": null,
      "outputs": []
    },
    {
      "cell_type": "code",
      "source": [
        "!nvidia-smi"
      ],
      "metadata": {
        "id": "QD3_lbAe7OFA"
      },
      "execution_count": null,
      "outputs": []
    },
    {
      "cell_type": "code",
      "source": [
        "!curl -ssL https://magic.modular.com/ | bash"
      ],
      "metadata": {
        "id": "A8X6phvz7ZoQ"
      },
      "execution_count": null,
      "outputs": []
    },
    {
      "cell_type": "code",
      "source": [
        "import os\n",
        "os.environ['PATH'] += ':/root/.modular/bin'"
      ],
      "metadata": {
        "id": "n7zS_6gK7fnB"
      },
      "execution_count": null,
      "outputs": []
    },
    {
      "cell_type": "code",
      "source": [
        "!magic init mojo_kernels --format mojoproject"
      ],
      "metadata": {
        "id": "Zlg5BNMn7j64"
      },
      "execution_count": null,
      "outputs": []
    },
    {
      "cell_type": "code",
      "source": [
        "%cd mojo_kernels/"
      ],
      "metadata": {
        "id": "mO77-mj17lsA"
      },
      "execution_count": null,
      "outputs": []
    },
    {
      "cell_type": "code",
      "source": [
        "%%writefile tensor_indexer_kernel.mojo\n",
        "\n",
        "from gpu import block_idx, thread_idx\n",
        "from gpu.host import DeviceContext\n",
        "from math import iota\n",
        "from layout import Layout, LayoutTensor\n",
        "\n",
        "alias dtype = DType.uint32\n",
        "alias blocks = 4\n",
        "alias threads = 4\n",
        "var elems_count = blocks * threads\n",
        "alias layout = Layout.row_major(blocks, threads)\n",
        "alias InputTensor = LayoutTensor[dtype, layout, MutableAnyOrigin]\n",
        "\n",
        "fn tensor_indexer_kernel(input_tensor: InputTensor):\n",
        "    input_tensor[0, 0] = 200\n",
        "    var bid = block_idx.x\n",
        "    var tid = thread_idx.x\n",
        "    print(\"Block id: \", bid, \", thread id: \", tid, \", value: \", input_tensor[bid, tid])\n",
        "    #print(\"Value: \", input_tensor[bid, tid])\n",
        "\n",
        "def main():\n",
        "    var ctx = DeviceContext()\n",
        "    var device_input_buff = ctx.enqueue_create_buffer[dtype](elems_count)\n",
        "\n",
        "    with device_input_buff.map_to_host() as host_input_buff:\n",
        "      iota(host_input_buff.unsafe_ptr(), elems_count)\n",
        "      print(host_input_buff)\n",
        "\n",
        "    #var input_tensor = LayoutTensor[dtype, layout](device_input_buff)\n",
        "    var input_tensor = InputTensor(device_input_buff)\n",
        "    ctx.enqueue_function[tensor_indexer_kernel](input_tensor, grid_dim=blocks, block_dim=threads)\n",
        "    ctx.synchronize()\n",
        "\n"
      ],
      "metadata": {
        "id": "UT3V1O2M7txw",
        "colab": {
          "base_uri": "https://localhost:8080/"
        },
        "outputId": "0b20bb06-04b4-44f4-c8af-bd264dddc4a7"
      },
      "execution_count": 36,
      "outputs": [
        {
          "output_type": "stream",
          "name": "stdout",
          "text": [
            "Overwriting tensor_indexer_kernel.mojo\n"
          ]
        }
      ]
    },
    {
      "cell_type": "code",
      "source": [
        "!magic run mojo tensor_indexer_kernel.mojo"
      ],
      "metadata": {
        "id": "CkjRGISm7y1Q",
        "colab": {
          "base_uri": "https://localhost:8080/"
        },
        "outputId": "c91ab8a4-8467-4e04-c7b0-10f2906f9651"
      },
      "execution_count": 40,
      "outputs": [
        {
          "output_type": "stream",
          "name": "stdout",
          "text": [
            "\u001b[32m⠁\u001b[0m                                                                               \r\u001b[2K\u001b[32m⠁\u001b[0m activating environment                                                        \r\u001b[2K\u001b[32m⠁\u001b[0m activating environment                                                        \r\u001b[2KHostBuffer([0, 1, 2, 3, 4, 5, 6, 7, 8, 9, 10, 11, 12, 13, 14, 15])\n",
            "Block id:  2 , thread id:  0 , value:  8\n",
            "Block id:  2 , thread id:  1 , value:  9\n",
            "Block id:  2 , thread id:  2 , value:  10\n",
            "Block id:  2 , thread id:  3 , value:  11\n",
            "Block id:  0 , thread id:  0 , value:  200\n",
            "Block id:  0 , thread id:  1 , value:  1\n",
            "Block id:  0 , thread id:  2 , value:  2\n",
            "Block id:  0 , thread id:  3 , value:  3\n",
            "Block id:  1 , thread id:  0 , value:  4\n",
            "Block id:  1 , thread id:  1 , value:  5\n",
            "Block id:  1 , thread id:  2 , value:  6\n",
            "Block id:  1 , thread id:  3 , value:  7\n",
            "Block id:  3 , thread id:  0 , value:  12\n",
            "Block id:  3 , thread id:  1 , value:  13\n",
            "Block id:  3 , thread id:  2 , value:  14\n",
            "Block id:  3 , thread id:  3 , value:  15\n"
          ]
        }
      ]
    }
  ],
  "metadata": {
    "colab": {
      "name": "Welcome To Colab",
      "provenance": [],
      "gpuType": "T4"
    },
    "kernelspec": {
      "display_name": "Python 3",
      "name": "python3"
    },
    "accelerator": "GPU"
  },
  "nbformat": 4,
  "nbformat_minor": 0
}
