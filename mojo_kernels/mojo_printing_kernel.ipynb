{
  "nbformat": 4,
  "nbformat_minor": 0,
  "metadata": {
    "colab": {
      "provenance": [],
      "gpuType": "T4",
      "authorship_tag": "ABX9TyO0WTjRgN7w76GS+glYkLkw",
      "include_colab_link": true
    },
    "kernelspec": {
      "name": "python3",
      "display_name": "Python 3"
    },
    "language_info": {
      "name": "python"
    },
    "accelerator": "GPU"
  },
  "cells": [
    {
      "cell_type": "markdown",
      "metadata": {
        "id": "view-in-github",
        "colab_type": "text"
      },
      "source": [
        "<a href=\"https://colab.research.google.com/github/ratulb/mojo_programming/blob/main/mojo_kernels/mojo_printing_kernel.ipynb\" target=\"_parent\"><img src=\"https://colab.research.google.com/assets/colab-badge.svg\" alt=\"Open In Colab\"/></a>"
      ]
    },
    {
      "cell_type": "markdown",
      "source": [
        "**Install magic**"
      ],
      "metadata": {
        "id": "alBEGCMYW9a_"
      }
    },
    {
      "cell_type": "code",
      "execution_count": null,
      "metadata": {
        "id": "nx26_v6wTiYn"
      },
      "outputs": [],
      "source": [
        "!curl -ssL https://magic.modular.com/ | bash"
      ]
    },
    {
      "cell_type": "markdown",
      "source": [
        "**Upadate PATH to include magic**"
      ],
      "metadata": {
        "id": "yTTASWCUXYGm"
      }
    },
    {
      "cell_type": "code",
      "source": [
        "import os\n",
        "os.environ['PATH'] += ':/root/.modular/bin'"
      ],
      "metadata": {
        "id": "Qx03iJNBXlHu"
      },
      "execution_count": null,
      "outputs": []
    },
    {
      "cell_type": "markdown",
      "source": [
        "**Create a new mojo project**"
      ],
      "metadata": {
        "id": "unK1nbQYXxvl"
      }
    },
    {
      "cell_type": "code",
      "source": [
        "!magic init printing_kernel --format mojoproject"
      ],
      "metadata": {
        "id": "OpxiNtVeX5l-"
      },
      "execution_count": null,
      "outputs": []
    },
    {
      "cell_type": "code",
      "source": [
        "%cd printing_kernel"
      ],
      "metadata": {
        "id": "4ByIkcfbYDet"
      },
      "execution_count": null,
      "outputs": []
    },
    {
      "cell_type": "markdown",
      "source": [
        "**Write out the mojo kernel**"
      ],
      "metadata": {
        "id": "wd_7rsXSYW5l"
      }
    },
    {
      "cell_type": "code",
      "source": [
        "%%writefile printing_kernel.mojo\n",
        "\n",
        "from gpu import thread_idx\n",
        "from gpu.host import DeviceContext\n",
        "\n",
        "def main():\n",
        "    fn printing_kernel():\n",
        "        print(\"GPU thread: [\", thread_idx.x, thread_idx.y, thread_idx.z, \"]\")\n",
        "\n",
        "    var ctx = DeviceContext()\n",
        "\n",
        "    ctx.enqueue_function[printing_kernel](grid_dim=1, block_dim=4)\n",
        "    ctx.synchronize()"
      ],
      "metadata": {
        "id": "fUP9OtVHYSKm"
      },
      "execution_count": null,
      "outputs": []
    },
    {
      "cell_type": "markdown",
      "source": [
        "**Launch the kernel in GPU**"
      ],
      "metadata": {
        "id": "O0pYL9i8ZYaW"
      }
    },
    {
      "cell_type": "code",
      "source": [
        "!magic run mojo printing_kernel.mojo"
      ],
      "metadata": {
        "colab": {
          "base_uri": "https://localhost:8080/"
        },
        "id": "mQdVwuVDY0o-",
        "outputId": "64caaf8e-5890-4450-cf8a-b29c1c40d8d6"
      },
      "execution_count": null,
      "outputs": [
        {
          "output_type": "stream",
          "name": "stdout",
          "text": [
            "  \u001b[32m⠁\u001b[0m                                                                             \r\u001b[2K  \u001b[32m⠁\u001b[0m updating conda prefix '\u001b[35mdefault\u001b[0m'                                             \r\u001b[2K  \u001b[32m⠁\u001b[0m updating conda prefix '\u001b[35mdefault\u001b[0m'                                             \r\u001b[2K\u001b[32m⠁\u001b[0m                                                                               \r\u001b[2K\u001b[32m⠁\u001b[0m activating environment                                                        \r\u001b[2K\u001b[32m⠁\u001b[0m activating environment                                                        \r\u001b[2KGPU thread: [ 0 0 0 ]\n",
            "GPU thread: [ 1 0 0 ]\n",
            "GPU thread: [ 2 0 0 ]\n",
            "GPU thread: [ 3 0 0 ]\n"
          ]
        }
      ]
    }
  ]
}