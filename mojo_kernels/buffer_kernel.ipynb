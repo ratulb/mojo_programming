{
  "cells": [
    {
      "cell_type": "code",
      "source": [
        "!nvcc --version"
      ],
      "metadata": {
        "id": "WIdSr3L-7JAo"
      },
      "execution_count": null,
      "outputs": []
    },
    {
      "cell_type": "code",
      "source": [
        "!nvidia-smi"
      ],
      "metadata": {
        "id": "QD3_lbAe7OFA"
      },
      "execution_count": null,
      "outputs": []
    },
    {
      "cell_type": "code",
      "source": [
        "!curl -ssL https://magic.modular.com/ | bash"
      ],
      "metadata": {
        "id": "A8X6phvz7ZoQ"
      },
      "execution_count": null,
      "outputs": []
    },
    {
      "cell_type": "code",
      "source": [
        "import os\n",
        "os.environ['PATH'] += ':/root/.modular/bin'"
      ],
      "metadata": {
        "id": "n7zS_6gK7fnB"
      },
      "execution_count": null,
      "outputs": []
    },
    {
      "cell_type": "code",
      "source": [
        "!magic init mojo_kernels --format mojoproject"
      ],
      "metadata": {
        "id": "Zlg5BNMn7j64"
      },
      "execution_count": null,
      "outputs": []
    },
    {
      "cell_type": "code",
      "source": [
        "%cd mojo_kernels/"
      ],
      "metadata": {
        "id": "mO77-mj17lsA"
      },
      "execution_count": null,
      "outputs": []
    },
    {
      "cell_type": "code",
      "source": [
        "%%writefile tensor_indexer_kernel.mojo\n",
        "\n",
        "from gpu import thread_idx\n",
        "from gpu.host import DeviceContext\n",
        "from math import iota\n",
        "\n",
        "alias dtype = DType.uint32\n",
        "alias blocks = 4\n",
        "alias threads = 4\n",
        "var elems_count = blocks * threads\n",
        "\n",
        "\n",
        "def main():\n",
        "    var ctx = DeviceContext()\n",
        "    var device_input_buff = ctx.enqueue_create_buffer[dtype](elems_count)\n",
        "\n",
        "    with device_input_buff.map_to_host() as host_input_buff:\n",
        "      iota(host_input_buff.unsafe_ptr(), elems_count)\n",
        "      print(host_input_buff)\n"
      ],
      "metadata": {
        "id": "UT3V1O2M7txw"
      },
      "execution_count": null,
      "outputs": []
    },
    {
      "cell_type": "code",
      "source": [
        "!magic run mojo tensor_indexer_kernel.mojo"
      ],
      "metadata": {
        "id": "CkjRGISm7y1Q"
      },
      "execution_count": null,
      "outputs": []
    }
  ],
  "metadata": {
    "colab": {
      "name": "Welcome To Colab",
      "provenance": [],
      "gpuType": "T4"
    },
    "kernelspec": {
      "display_name": "Python 3",
      "name": "python3"
    },
    "accelerator": "GPU"
  },
  "nbformat": 4,
  "nbformat_minor": 0
}
