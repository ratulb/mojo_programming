{
  "cells": [
    {
      "cell_type": "code",
      "source": [
        "!curl -ssL https://magic.modular.com/ | bash"
      ],
      "metadata": {
        "id": "FKAX0PR3tzzF"
      },
      "execution_count": null,
      "outputs": []
    },
    {
      "cell_type": "code",
      "source": [
        "import os\n",
        "os.environ['PATH'] += ':/root/.modular/bin'"
      ],
      "metadata": {
        "id": "TQVqZGmIt3Yc"
      },
      "execution_count": null,
      "outputs": []
    },
    {
      "cell_type": "code",
      "source": [
        "!magic init mojo_kernels --format mojoproject"
      ],
      "metadata": {
        "id": "yERXXg3Kt6_V"
      },
      "execution_count": null,
      "outputs": []
    },
    {
      "cell_type": "code",
      "source": [
        "%cd mojo_kernels/"
      ],
      "metadata": {
        "id": "rDHyEcWnt-Zc"
      },
      "execution_count": null,
      "outputs": []
    },
    {
      "cell_type": "code",
      "source": [
        "%%writefile tensor_indexer_kernel.mojo\n",
        "\n",
        "from gpu import block_idx, thread_idx\n",
        "from gpu.host import DeviceContext\n",
        "from math import iota\n",
        "from layout import Layout, LayoutTensor\n",
        "\n",
        "alias dtype = DType.uint32\n",
        "alias blocks = 4\n",
        "alias threads = 4\n",
        "var elems_count = blocks * threads\n",
        "alias layout = Layout.row_major(blocks, threads)\n",
        "#ImmutableAnyOrigin/MutableAnyOrigin not making any difference\n",
        "#alias InputTensor = LayoutTensor[dtype, layout, ImmutableAnyOrigin]\n",
        "alias InputTensor = LayoutTensor[dtype, layout, MutableAnyOrigin]\n",
        "\n",
        "fn tensor_indexer_kernel(input_tensor: InputTensor):\n",
        "    var bid = block_idx.x\n",
        "    var tid = thread_idx.x\n",
        "    input_tensor[bid, tid] *= 3\n",
        "    print(\"Block id: \", bid, \", thread id: \", tid, \", value: \", input_tensor[bid, tid])\n",
        "\n",
        "\n",
        "def main():\n",
        "    var ctx = DeviceContext()\n",
        "    var device_input_buff = ctx.enqueue_create_buffer[dtype](elems_count)\n",
        "\n",
        "    with device_input_buff.map_to_host() as host_input_buff:\n",
        "      iota(host_input_buff.unsafe_ptr(), elems_count)\n",
        "      print(host_input_buff)\n",
        "\n",
        "    var input_tensor = InputTensor(device_input_buff)\n",
        "    ctx.enqueue_function[tensor_indexer_kernel](input_tensor, grid_dim=blocks, block_dim=threads)\n",
        "    ctx.synchronize()\n",
        "\n",
        "    with device_input_buff.map_to_host() as host_input_buff:\n",
        "      print(host_input_buff)\n",
        "      #tensor = InputTensor(host_input_buff)\n",
        "      tensor1 = LayoutTensor[dtype, Layout.col_major(2, 8)](host_input_buff)\n",
        "      print(tensor1)\n",
        "      tensor2 = LayoutTensor[dtype, Layout.col_major(8, 2)](host_input_buff)\n",
        "      print(tensor2)\n",
        "\n",
        "      tensor3 = LayoutTensor[dtype, Layout.row_major(8, 2)](host_input_buff)\n",
        "      print(tensor3)\n",
        "      print(host_input_buff)\n",
        "\n",
        "\n"
      ],
      "metadata": {
        "colab": {
          "base_uri": "https://localhost:8080/"
        },
        "id": "SnNN3qqfuDuc",
        "outputId": "0db4663d-faf1-4411-e633-5e01557636ac"
      },
      "execution_count": 38,
      "outputs": [
        {
          "output_type": "stream",
          "name": "stdout",
          "text": [
            "Overwriting tensor_indexer_kernel.mojo\n"
          ]
        }
      ]
    },
    {
      "cell_type": "code",
      "source": [
        "!magic run mojo tensor_indexer_kernel.mojo"
      ],
      "metadata": {
        "colab": {
          "base_uri": "https://localhost:8080/"
        },
        "id": "bhlr6kJruHB8",
        "outputId": "c36a1b29-9529-4a9b-fae6-a0b5929fb3ce"
      },
      "execution_count": 39,
      "outputs": [
        {
          "output_type": "stream",
          "name": "stdout",
          "text": [
            "\u001b[32m⠁\u001b[0m                                                                               \r\u001b[2K\u001b[32m⠁\u001b[0m activating environment                                                        \r\u001b[2K\u001b[32m⠁\u001b[0m activating environment                                                        \r\u001b[2KHostBuffer([0, 1, 2, 3, 4, 5, 6, 7, 8, 9, 10, 11, 12, 13, 14, 15])\n",
            "Block id:  2 , thread id:  0 , value:  24\n",
            "Block id:  2 , thread id:  1 , value:  27\n",
            "Block id:  2 , thread id:  2 , value:  30\n",
            "Block id:  2 , thread id:  3 , value:  33\n",
            "Block id:  0 , thread id:  0 , value:  0\n",
            "Block id:  0 , thread id:  1 , value:  3\n",
            "Block id:  0 , thread id:  2 , value:  6\n",
            "Block id:  0 , thread id:  3 , value:  9\n",
            "Block id:  1 , thread id:  0 , value:  12\n",
            "Block id:  1 , thread id:  1 , value:  15\n",
            "Block id:  1 , thread id:  2 , value:  18\n",
            "Block id:  1 , thread id:  3 , value:  21\n",
            "Block id:  3 , thread id:  0 , value:  36\n",
            "Block id:  3 , thread id:  1 , value:  39\n",
            "Block id:  3 , thread id:  2 , value:  42\n",
            "Block id:  3 , thread id:  3 , value:  45\n",
            "HostBuffer([0, 3, 6, 9, 12, 15, 18, 21, 24, 27, 30, 33, 36, 39, 42, 45])\n",
            "0 6 12 18 24 30 36 42 \n",
            "3 9 15 21 27 33 39 45 \n",
            "0 24 \n",
            "3 27 \n",
            "6 30 \n",
            "9 33 \n",
            "12 36 \n",
            "15 39 \n",
            "18 42 \n",
            "21 45 \n",
            "0 3 \n",
            "6 9 \n",
            "12 15 \n",
            "18 21 \n",
            "24 27 \n",
            "30 33 \n",
            "36 39 \n",
            "42 45 \n",
            "HostBuffer([0, 3, 6, 9, 12, 15, 18, 21, 24, 27, 30, 33, 36, 39, 42, 45])\n"
          ]
        }
      ]
    }
  ],
  "metadata": {
    "colab": {
      "name": "Welcome To Colab",
      "provenance": [],
      "gpuType": "T4"
    },
    "kernelspec": {
      "display_name": "Python 3",
      "name": "python3"
    },
    "accelerator": "GPU"
  },
  "nbformat": 4,
  "nbformat_minor": 0
}
